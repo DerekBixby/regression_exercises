{
 "cells": [
  {
   "cell_type": "code",
   "execution_count": 2,
   "id": "59b689a1",
   "metadata": {},
   "outputs": [],
   "source": [
    "from scipy import stats\n",
    "from sklearn.metrics import mean_squared_error, r2_score, explained_variance_score\n",
    "\n",
    "from sklearn.linear_model import LinearRegression\n",
    "from sklearn.feature_selection import f_regression \n",
    "from math import sqrt\n",
    "import matplotlib.pyplot as plt\n",
    "\n",
    "from sklearn.metrics import mean_squared_error\n",
    "from sklearn.metrics import r2_score\n",
    "from wrangle import wrangle_zillow\n",
    "from wrangle import split_data"
   ]
  },
  {
   "cell_type": "markdown",
   "id": "e2de5e0e",
   "metadata": {},
   "source": [
    "1. Load your zillow dataset."
   ]
  },
  {
   "cell_type": "code",
   "execution_count": 6,
   "id": "845f9e18",
   "metadata": {},
   "outputs": [
    {
     "data": {
      "text/html": [
       "<div>\n",
       "<style scoped>\n",
       "    .dataframe tbody tr th:only-of-type {\n",
       "        vertical-align: middle;\n",
       "    }\n",
       "\n",
       "    .dataframe tbody tr th {\n",
       "        vertical-align: top;\n",
       "    }\n",
       "\n",
       "    .dataframe thead th {\n",
       "        text-align: right;\n",
       "    }\n",
       "</style>\n",
       "<table border=\"1\" class=\"dataframe\">\n",
       "  <thead>\n",
       "    <tr style=\"text-align: right;\">\n",
       "      <th></th>\n",
       "      <th>id</th>\n",
       "      <th>bedroomcnt</th>\n",
       "      <th>bathroomcnt</th>\n",
       "      <th>calculatedfinishedsquarefeet</th>\n",
       "      <th>taxvaluedollarcnt</th>\n",
       "      <th>yearbuilt</th>\n",
       "      <th>taxamount</th>\n",
       "      <th>fips</th>\n",
       "    </tr>\n",
       "  </thead>\n",
       "  <tbody>\n",
       "    <tr>\n",
       "      <th>4</th>\n",
       "      <td>20</td>\n",
       "      <td>4.0</td>\n",
       "      <td>2.0</td>\n",
       "      <td>3633.0</td>\n",
       "      <td>296425.0</td>\n",
       "      <td>2005.0</td>\n",
       "      <td>6941.39</td>\n",
       "      <td>6037.0</td>\n",
       "    </tr>\n",
       "    <tr>\n",
       "      <th>6</th>\n",
       "      <td>31</td>\n",
       "      <td>3.0</td>\n",
       "      <td>4.0</td>\n",
       "      <td>1620.0</td>\n",
       "      <td>847770.0</td>\n",
       "      <td>2011.0</td>\n",
       "      <td>10244.94</td>\n",
       "      <td>6037.0</td>\n",
       "    </tr>\n",
       "    <tr>\n",
       "      <th>7</th>\n",
       "      <td>33</td>\n",
       "      <td>3.0</td>\n",
       "      <td>2.0</td>\n",
       "      <td>2077.0</td>\n",
       "      <td>646760.0</td>\n",
       "      <td>1926.0</td>\n",
       "      <td>7924.68</td>\n",
       "      <td>6037.0</td>\n",
       "    </tr>\n",
       "    <tr>\n",
       "      <th>11</th>\n",
       "      <td>62</td>\n",
       "      <td>0.0</td>\n",
       "      <td>0.0</td>\n",
       "      <td>1200.0</td>\n",
       "      <td>5328.0</td>\n",
       "      <td>1972.0</td>\n",
       "      <td>91.60</td>\n",
       "      <td>6037.0</td>\n",
       "    </tr>\n",
       "    <tr>\n",
       "      <th>14</th>\n",
       "      <td>97</td>\n",
       "      <td>0.0</td>\n",
       "      <td>0.0</td>\n",
       "      <td>171.0</td>\n",
       "      <td>6920.0</td>\n",
       "      <td>1973.0</td>\n",
       "      <td>255.17</td>\n",
       "      <td>6037.0</td>\n",
       "    </tr>\n",
       "  </tbody>\n",
       "</table>\n",
       "</div>"
      ],
      "text/plain": [
       "    id  bedroomcnt  bathroomcnt  calculatedfinishedsquarefeet  \\\n",
       "4   20         4.0          2.0                        3633.0   \n",
       "6   31         3.0          4.0                        1620.0   \n",
       "7   33         3.0          2.0                        2077.0   \n",
       "11  62         0.0          0.0                        1200.0   \n",
       "14  97         0.0          0.0                         171.0   \n",
       "\n",
       "    taxvaluedollarcnt  yearbuilt  taxamount    fips  \n",
       "4            296425.0     2005.0    6941.39  6037.0  \n",
       "6            847770.0     2011.0   10244.94  6037.0  \n",
       "7            646760.0     1926.0    7924.68  6037.0  \n",
       "11             5328.0     1972.0      91.60  6037.0  \n",
       "14             6920.0     1973.0     255.17  6037.0  "
      ]
     },
     "execution_count": 6,
     "metadata": {},
     "output_type": "execute_result"
    }
   ],
   "source": [
    "df = wrangle_zillow()\n",
    "df.head()"
   ]
  },
  {
   "cell_type": "code",
   "execution_count": 7,
   "id": "9d8caec1",
   "metadata": {},
   "outputs": [
    {
     "data": {
      "text/plain": [
       "(              id  bedroomcnt  bathroomcnt  calculatedfinishedsquarefeet  \\\n",
       " 1223393  1694795         3.0          2.0                        1456.0   \n",
       " 150088    206497         2.0          3.0                        1818.0   \n",
       " 935127   1294432         4.0          2.5                        2271.0   \n",
       " 600768    831548         3.0          1.5                        1240.0   \n",
       " 418822    579258         5.0          4.5                        3899.0   \n",
       " \n",
       "          taxvaluedollarcnt  yearbuilt  taxamount    fips  \n",
       " 1223393           343168.0     1966.0    4421.73  6037.0  \n",
       " 150088            125856.0     1985.0    1292.28  6059.0  \n",
       " 935127            530519.0     1975.0    5827.04  6059.0  \n",
       " 600768            430466.0     1965.0    4909.04  6059.0  \n",
       " 418822           1285000.0     1989.0   13259.10  6059.0  ,\n",
       "               id  bedroomcnt  bathroomcnt  calculatedfinishedsquarefeet  \\\n",
       " 778516   1078234         4.0          2.0                        2218.0   \n",
       " 1145041  1586353         3.0          2.0                        1728.0   \n",
       " 1565821  2168868         2.0          1.0                         744.0   \n",
       " 970124   1343722         2.0          1.0                        1296.0   \n",
       " 455389    630684         2.0          3.0                        1178.0   \n",
       " \n",
       "          taxvaluedollarcnt  yearbuilt  taxamount    fips  \n",
       " 778516            480440.0     1939.0    6262.96  6037.0  \n",
       " 1145041           462675.0     1936.0    5469.76  6037.0  \n",
       " 1565821           112007.0     1908.0    1907.98  6037.0  \n",
       " 970124            329956.0     1948.0    4124.11  6037.0  \n",
       " 455389           1281228.0     1938.0   15521.72  6037.0  ,\n",
       "               id  bedroomcnt  bathroomcnt  calculatedfinishedsquarefeet  \\\n",
       " 566155    784167         4.0          2.0                        1399.0   \n",
       " 2078765  2879712         2.0          2.0                        1281.0   \n",
       " 570523    789867         3.0          3.0                        2280.0   \n",
       " 1308245  1812353         3.0          2.0                        1316.0   \n",
       " 150596    207932         5.0          5.5                        4572.0   \n",
       " \n",
       "          taxvaluedollarcnt  yearbuilt  taxamount    fips  \n",
       " 566155            360046.0     1960.0    4187.49  6037.0  \n",
       " 2078765           550265.0     1936.0    6723.30  6037.0  \n",
       " 570523            238172.0     2007.0    5215.44  6037.0  \n",
       " 1308245           350260.0     1975.0    4689.03  6037.0  \n",
       " 150596           2563505.0     1998.0   27255.50  6111.0  )"
      ]
     },
     "execution_count": 7,
     "metadata": {},
     "output_type": "execute_result"
    }
   ],
   "source": [
    "train, validate, test = split_data(df)\n",
    "train.head(), validate.head(), test.head()"
   ]
  },
  {
   "cell_type": "markdown",
   "id": "4ec1e456",
   "metadata": {},
   "source": [
    "2. Fit a linear regression model (ordinary least squares) and compute yhat, predictions of taxvaluedollarcnt using only calculatedfinishedsqft.\n",
    "\n",
    "Here is some sample code to get you started:"
   ]
  },
  {
   "cell_type": "code",
   "execution_count": null,
   "id": "1ca67467",
   "metadata": {},
   "outputs": [],
   "source": [
    "# assuming X and y are already defined\n",
    "model = LinearRegression().fit(X, y)\n",
    "predictions = model.predict(X)\n"
   ]
  },
  {
   "cell_type": "markdown",
   "id": "e2063ea8",
   "metadata": {},
   "source": [
    "3. Plot the residuals for the linear regression model that you made."
   ]
  },
  {
   "cell_type": "code",
   "execution_count": null,
   "id": "35354297",
   "metadata": {},
   "outputs": [],
   "source": []
  },
  {
   "cell_type": "markdown",
   "id": "86e464cc",
   "metadata": {},
   "source": [
    "4. Calculate the sum of squared errors, explained sum of squares, total sum of squares, mean squared error, and root mean squared error for your model."
   ]
  },
  {
   "cell_type": "code",
   "execution_count": null,
   "id": "c503e2c9",
   "metadata": {},
   "outputs": [],
   "source": []
  },
  {
   "cell_type": "markdown",
   "id": "aa2e8f86",
   "metadata": {},
   "source": [
    "5. Calculate the sum of squared errors, mean squared error, and root mean squared error for the baseline model (i.e. a model that always predicts the average taxvaluedollarcnt amount)."
   ]
  },
  {
   "cell_type": "code",
   "execution_count": null,
   "id": "eab69cc5",
   "metadata": {},
   "outputs": [],
   "source": []
  },
  {
   "cell_type": "markdown",
   "id": "bf5d0139",
   "metadata": {},
   "source": [
    "6. Write python code that compares the sum of squared errors for your model against the sum of squared errors for the baseline model and outputs whether or not your model performs better than the baseline model."
   ]
  },
  {
   "cell_type": "code",
   "execution_count": null,
   "id": "fbd02662",
   "metadata": {},
   "outputs": [],
   "source": []
  },
  {
   "cell_type": "markdown",
   "id": "76ed549e",
   "metadata": {},
   "source": [
    "7. What is the amount of variance explained in your model?"
   ]
  },
  {
   "cell_type": "code",
   "execution_count": null,
   "id": "ba826ee4",
   "metadata": {},
   "outputs": [],
   "source": []
  },
  {
   "cell_type": "markdown",
   "id": "31884a95",
   "metadata": {},
   "source": [
    "8. Is your model better than the baseline model?"
   ]
  },
  {
   "cell_type": "code",
   "execution_count": null,
   "id": "78f20a8f",
   "metadata": {},
   "outputs": [],
   "source": []
  },
  {
   "cell_type": "markdown",
   "id": "2bbf6d56",
   "metadata": {},
   "source": [
    "9. Create a file named evaluate.py that contains the following functions."
   ]
  },
  {
   "cell_type": "markdown",
   "id": "7a2a87a6",
   "metadata": {},
   "source": [
    "plot_residuals(y, yhat): creates a residual plot"
   ]
  },
  {
   "cell_type": "code",
   "execution_count": null,
   "id": "ad6e05af",
   "metadata": {},
   "outputs": [],
   "source": []
  },
  {
   "cell_type": "markdown",
   "id": "9c783321",
   "metadata": {},
   "source": [
    "regression_errors(y, yhat): returns the following values:\n",
    "\n",
    "    sum of squared errors (SSE)\n",
    "    explained sum of squares (ESS)\n",
    "    total sum of squares (TSS)\n",
    "    mean squared error (MSE)\n",
    "    root mean squared error (RMSE)\n",
    "\n"
   ]
  },
  {
   "cell_type": "code",
   "execution_count": null,
   "id": "3bd853d7",
   "metadata": {},
   "outputs": [],
   "source": []
  },
  {
   "cell_type": "markdown",
   "id": "c7176cdb",
   "metadata": {},
   "source": [
    "baseline_mean_errors(y): computes the SSE, MSE, and RMSE for the baseline model"
   ]
  },
  {
   "cell_type": "code",
   "execution_count": null,
   "id": "88e49479",
   "metadata": {},
   "outputs": [],
   "source": []
  },
  {
   "cell_type": "markdown",
   "id": "9cce1693",
   "metadata": {},
   "source": [
    "better_than_baseline(y, yhat): returns true if your model performs better than the baseline, otherwise false"
   ]
  },
  {
   "cell_type": "code",
   "execution_count": null,
   "id": "8b92a47a",
   "metadata": {},
   "outputs": [],
   "source": []
  }
 ],
 "metadata": {
  "kernelspec": {
   "display_name": "Python 3 (ipykernel)",
   "language": "python",
   "name": "python3"
  },
  "language_info": {
   "codemirror_mode": {
    "name": "ipython",
    "version": 3
   },
   "file_extension": ".py",
   "mimetype": "text/x-python",
   "name": "python",
   "nbconvert_exporter": "python",
   "pygments_lexer": "ipython3",
   "version": "3.10.9"
  }
 },
 "nbformat": 4,
 "nbformat_minor": 5
}
